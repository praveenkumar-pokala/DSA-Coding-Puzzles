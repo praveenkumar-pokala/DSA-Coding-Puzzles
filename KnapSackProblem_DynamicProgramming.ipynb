{
 "cells": [
  {
   "cell_type": "markdown",
   "metadata": {},
   "source": [
    "# 0-1 Knapsack problem"
   ]
  },
  {
   "cell_type": "markdown",
   "metadata": {},
   "source": [
    "## Recurcive solution"
   ]
  },
  {
   "cell_type": "code",
   "execution_count": 4,
   "metadata": {},
   "outputs": [],
   "source": [
    "def KnapSack_Recursive(W, Wt, Val, n):\n",
    "    # Base case\n",
    "    if n==0 or W==0:\n",
    "        return 0\n",
    "    # If the weight of the nth item\n",
    "    # is more than the Knapsack capacity\n",
    "    # then nth item is not included in the optimal solution\n",
    "    if Wt[n-1] > W:\n",
    "        return KnapSack(W, Wt, Val, n-1)\n",
    "    else:\n",
    "        # Return the maximum of two cases\n",
    "        #(1) nth item included\n",
    "        #(2) nth item is not included\n",
    "        return max(Val[n-1]+KnapSack(W-Wt[n-1], Wt, Val, n-1), KnapSack(W, Wt, Val, n-1))\n",
    "# End of Knapsack code    "
   ]
  },
  {
   "cell_type": "markdown",
   "metadata": {},
   "source": [
    "## Dynamic programming"
   ]
  },
  {
   "cell_type": "code",
   "execution_count": 5,
   "metadata": {},
   "outputs": [],
   "source": [
    "def KnapSack_DP(W, Wt, Val, n):\n",
    "    K = [[0 for x in range(W+1) ] for x in range(n+1)]\n",
    "    for i in range(n+1):\n",
    "        for j in range(W+1):\n",
    "            if i == 0 or j == 0:\n",
    "                K[i][j] = 0\n",
    "            if Wt[i-1] <= j:\n",
    "                K[i][j] = max(Val[i-1]+K[i-1][j-Wt[i-1]], K[i-1][j])\n",
    "            else:\n",
    "                K[i][j] = K[i-1][j]\n",
    "           # print(j)    \n",
    "    return K[n][W]\n",
    "\n",
    "# EOF Knapsack DP       "
   ]
  },
  {
   "cell_type": "markdown",
   "metadata": {},
   "source": [
    "# Memorization"
   ]
  },
  {
   "cell_type": "code",
   "execution_count": 3,
   "metadata": {},
   "outputs": [],
   "source": [
    "def KnapSack_Recursive_Memorize(W, Wt, Val, n):\n",
    "    # Base case\n",
    "    if n==0 or W==0:\n",
    "        return 0\n",
    "    \n",
    "    if t[n][W] != -1:\n",
    "        return t[n][W]\n",
    "    # If the weight of the nth item\n",
    "    # is more than the Knapsack capacity\n",
    "    # then nth item is not included in the optimal solution\n",
    "    if Wt[n-1] > W:\n",
    "        t[n][W] = KnapSack_Recursive_Memorize(W, Wt, Val, n-1)\n",
    "        return t[n][W]\n",
    "    else:\n",
    "        # Return the maximum of two cases\n",
    "        #(1) nth item included\n",
    "        #(2) nth item is not included\n",
    "        t[n][W] = max(Val[n-1]+KnapSack_Recursive_Memorize(W-Wt[n-1], Wt, Val, n-1), KnapSack_Recursive_Memorize(W, Wt, Val, n-1))\n",
    "        return t[n][W]"
   ]
  },
  {
   "cell_type": "code",
   "execution_count": 14,
   "metadata": {},
   "outputs": [],
   "source": [
    "def KnapSack_BackTrack(K, W, Wt, Val, n):\n",
    "    res = K[n][W]\n",
    "    Wtlist = []\n",
    "    for i in range(n, 0, -1):\n",
    "        if res <= 0:\n",
    "            break\n",
    "        if res == K[i-1][W]:\n",
    "            continue\n",
    "        else:\n",
    "            Wtlist.append(Wt[i-1])\n",
    "            res -= Val[i-1]\n",
    "            W = W - Wt[i-1]\n",
    "    return Wtlist        \n",
    "           \n",
    "            "
   ]
  },
  {
   "cell_type": "code",
   "execution_count": 15,
   "metadata": {},
   "outputs": [
    {
     "name": "stdout",
     "output_type": "stream",
     "text": [
      "220\n"
     ]
    }
   ],
   "source": [
    "# Demo of 0-1 Knapsack solution\n",
    "W = 50\n",
    "Val = [60, 100, 120]\n",
    "Wt = [10, 20, 30]\n",
    "n = len(Wt)\n",
    "t = [[-1 for i in range(W+1)] for j in range(n+1)]\n",
    "print(KnapSack_Recursive_Memorize(W, Wt, Val,n))"
   ]
  },
  {
   "cell_type": "code",
   "execution_count": 16,
   "metadata": {},
   "outputs": [
    {
     "name": "stdout",
     "output_type": "stream",
     "text": [
      "[30, 20]\n"
     ]
    }
   ],
   "source": [
    "print(KnapSack_BackTrack(t, W, Wt, Val, n))"
   ]
  },
  {
   "cell_type": "markdown",
   "metadata": {},
   "source": [
    "# KnapSack Class\n",
    "## Includes recursive, dynamic, and memorization techniques"
   ]
  },
  {
   "cell_type": "code",
   "execution_count": 98,
   "metadata": {},
   "outputs": [],
   "source": [
    "class KnapSack:\n",
    "    def __init__(self, W, Wt, Val, n):\n",
    "        self.W = W\n",
    "        self.n = n\n",
    "        self.Val = Val\n",
    "        self.Wt = Wt\n",
    "        self.K = [[0 for x in range(self.W+1) ] for x in range(self.n+1)]\n",
    "        self.t = [[-1 for x in range(self.W+1) ] for x in range(self.n+1)]\n",
    "    \n",
    "    # 0/1 Knapsack recursive function\n",
    "    def K_R(self, W, Wt, Val, n):\n",
    "        # Base case\n",
    "        if n==0 or W==0:\n",
    "            return 0\n",
    "        # If the weight of the nth item\n",
    "        # is more than the Knapsack capacity\n",
    "        # then nth item is not included in the optimal solution\n",
    "        if Wt[n-1] > W:\n",
    "            return self.K_R(W, Wt, Val, n-1)\n",
    "        else:\n",
    "            # Return the maximum of two cases\n",
    "            #(1) nth item included\n",
    "            #(2) nth item is not included\n",
    "            return max(Val[n-1] + self.K_R(W-Wt[n-1], Wt, Val, n-1), self.K_R(W, Wt, Val, n-1))\n",
    "    \n",
    "    # 0/1 Knapsack solver based on dynamic programming \n",
    "    def K_DP(self):\n",
    "        for i in range(self.n+1):\n",
    "            for j in range(self.W+1):\n",
    "                if i == 0 or j == 0:\n",
    "                    self.K[i][j] = 0\n",
    "                if self.Wt[i-1] <= j:\n",
    "                    self.K[i][j] = max(self.Val[i-1]+ self.K[i-1][j-self.Wt[i-1]], self.K[i-1][j])\n",
    "                else:\n",
    "                    self.K[i][j] = self.K[i-1][j]\n",
    "        return self.K[n][W]\n",
    "    \n",
    "    # 0/1 Knapsack solver based on memorization (recursive + memorization = dynamic programming)\n",
    "    def K_M(self, W, Wt, Val, n):\n",
    "        if n==0 or W==0:\n",
    "            return 0\n",
    "\n",
    "        if self.t[n][W] != -1:\n",
    "            return self.t[n][W]\n",
    "        # If the weight of the nth item\n",
    "        # is more than the Knapsack capacity\n",
    "        # then nth item is not included in the optimal solution\n",
    "        if Wt[n-1] > W:\n",
    "            self.t[n][W] = self.K_M(W, Wt, Val, n-1)\n",
    "            return self.t[n][W]\n",
    "        else:\n",
    "            # Return the maximum of two cases\n",
    "            #(1) nth item included\n",
    "            #(2) nth item is not included\n",
    "            self.t[n][W] = max(Val[n-1]+self.K_M(W-Wt[n-1], Wt, Val, n-1), self.K_M(W, Wt, Val, n-1))\n",
    "            return self.t[n][W]\n",
    "        \n",
    "    def KnapSack_BackTrack(self, W, Wt, Val, n):\n",
    "        a = self.K_M(W, Wt, Val, n)\n",
    "        #a = self.K_DP()\n",
    "        res = self.t[n][W]\n",
    "        Wtlist = []\n",
    "        for i in range(n, 0, -1):\n",
    "            if res <= 0:\n",
    "                break\n",
    "            if res == self.t[i-1][W]:\n",
    "                continue\n",
    "            else:\n",
    "                Wtlist.append(Wt[i-1])\n",
    "                res -= Val[i-1]\n",
    "                W = W - Wt[i-1]\n",
    "        return a, Wtlist"
   ]
  },
  {
   "cell_type": "code",
   "execution_count": 104,
   "metadata": {},
   "outputs": [
    {
     "name": "stdout",
     "output_type": "stream",
     "text": [
      "Optimal Value: 220 and List of Included Weights: [30, 20]\n"
     ]
    }
   ],
   "source": [
    "W = 50\n",
    "Val = [60, 100, 120]\n",
    "Wt = [10, 20, 30]\n",
    "n = len(Wt)\n",
    "Gobj = KnapSack(W, Wt, Val, n)\n",
    "Optval, listofW = Gobj.KnapSack_BackTrack(W, Wt, Val, n)\n",
    "print('Optimal Value: {} and List of Included Weights: {}'.format(Optval, listofW) )"
   ]
  }
 ],
 "metadata": {
  "kernelspec": {
   "display_name": "Python 3",
   "language": "python",
   "name": "python3"
  },
  "language_info": {
   "codemirror_mode": {
    "name": "ipython",
    "version": 3
   },
   "file_extension": ".py",
   "mimetype": "text/x-python",
   "name": "python",
   "nbconvert_exporter": "python",
   "pygments_lexer": "ipython3",
   "version": "3.6.4"
  }
 },
 "nbformat": 4,
 "nbformat_minor": 4
}
